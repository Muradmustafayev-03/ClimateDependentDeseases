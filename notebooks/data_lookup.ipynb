{
 "cells": [
  {
   "cell_type": "code",
   "execution_count": 2,
   "metadata": {
    "collapsed": true
   },
   "outputs": [],
   "source": [
    "from matplotlib import pyplot as plt\n",
    "import pandas as pd\n",
    "import numpy as np"
   ]
  },
  {
   "cell_type": "code",
   "execution_count": 3,
   "outputs": [],
   "source": [
    "df1 = pd.read_csv('../data/Estimated number of malaria cases.csv')[['Period', 'Location', 'FactValueNumericLow', 'FactValueNumeric', 'FactValueNumericHigh']].sort_values(['Location', 'Period'])\n",
    "df2 = pd.read_csv('../data/Estimated number of malaria deaths.csv')[['Period', 'Location', 'FactValueNumericLow', 'FactValueNumeric', 'FactValueNumericHigh']].sort_values(['Location', 'Period'])"
   ],
   "metadata": {
    "collapsed": false,
    "pycharm": {
     "name": "#%%\n"
    }
   }
  },
  {
   "cell_type": "code",
   "execution_count": 4,
   "outputs": [
    {
     "data": {
      "text/plain": "      Period     Location  FactValueNumericLow  FactValueNumeric  \\\n2235    2000  Afghanistan             843000.0         1312939.0   \n2131    2001  Afghanistan             849000.0         1312939.0   \n2023    2002  Afghanistan             916000.0         1382972.0   \n1914    2003  Afghanistan             810000.0         1242906.0   \n1894    2004  Afghanistan             480000.0          716954.0   \n...      ...          ...                  ...               ...   \n610     2016     Zimbabwe             498000.0          755407.0   \n431     2017     Zimbabwe             830000.0         1332055.0   \n389     2018     Zimbabwe             392000.0          634718.0   \n296     2019     Zimbabwe             470000.0          782740.0   \n2       2020     Zimbabwe             692000.0         1152901.0   \n\n      FactValueNumericHigh  \n2235             2022000.0  \n2131             2007000.0  \n2023             2106000.0  \n1914             1916000.0  \n1894             1072000.0  \n...                    ...  \n610              1046000.0  \n431              1909000.0  \n389               899000.0  \n296              1125000.0  \n2                1649000.0  \n\n[2334 rows x 5 columns]",
      "text/html": "<div>\n<style scoped>\n    .dataframe tbody tr th:only-of-type {\n        vertical-align: middle;\n    }\n\n    .dataframe tbody tr th {\n        vertical-align: top;\n    }\n\n    .dataframe thead th {\n        text-align: right;\n    }\n</style>\n<table border=\"1\" class=\"dataframe\">\n  <thead>\n    <tr style=\"text-align: right;\">\n      <th></th>\n      <th>Period</th>\n      <th>Location</th>\n      <th>FactValueNumericLow</th>\n      <th>FactValueNumeric</th>\n      <th>FactValueNumericHigh</th>\n    </tr>\n  </thead>\n  <tbody>\n    <tr>\n      <th>2235</th>\n      <td>2000</td>\n      <td>Afghanistan</td>\n      <td>843000.0</td>\n      <td>1312939.0</td>\n      <td>2022000.0</td>\n    </tr>\n    <tr>\n      <th>2131</th>\n      <td>2001</td>\n      <td>Afghanistan</td>\n      <td>849000.0</td>\n      <td>1312939.0</td>\n      <td>2007000.0</td>\n    </tr>\n    <tr>\n      <th>2023</th>\n      <td>2002</td>\n      <td>Afghanistan</td>\n      <td>916000.0</td>\n      <td>1382972.0</td>\n      <td>2106000.0</td>\n    </tr>\n    <tr>\n      <th>1914</th>\n      <td>2003</td>\n      <td>Afghanistan</td>\n      <td>810000.0</td>\n      <td>1242906.0</td>\n      <td>1916000.0</td>\n    </tr>\n    <tr>\n      <th>1894</th>\n      <td>2004</td>\n      <td>Afghanistan</td>\n      <td>480000.0</td>\n      <td>716954.0</td>\n      <td>1072000.0</td>\n    </tr>\n    <tr>\n      <th>...</th>\n      <td>...</td>\n      <td>...</td>\n      <td>...</td>\n      <td>...</td>\n      <td>...</td>\n    </tr>\n    <tr>\n      <th>610</th>\n      <td>2016</td>\n      <td>Zimbabwe</td>\n      <td>498000.0</td>\n      <td>755407.0</td>\n      <td>1046000.0</td>\n    </tr>\n    <tr>\n      <th>431</th>\n      <td>2017</td>\n      <td>Zimbabwe</td>\n      <td>830000.0</td>\n      <td>1332055.0</td>\n      <td>1909000.0</td>\n    </tr>\n    <tr>\n      <th>389</th>\n      <td>2018</td>\n      <td>Zimbabwe</td>\n      <td>392000.0</td>\n      <td>634718.0</td>\n      <td>899000.0</td>\n    </tr>\n    <tr>\n      <th>296</th>\n      <td>2019</td>\n      <td>Zimbabwe</td>\n      <td>470000.0</td>\n      <td>782740.0</td>\n      <td>1125000.0</td>\n    </tr>\n    <tr>\n      <th>2</th>\n      <td>2020</td>\n      <td>Zimbabwe</td>\n      <td>692000.0</td>\n      <td>1152901.0</td>\n      <td>1649000.0</td>\n    </tr>\n  </tbody>\n</table>\n<p>2334 rows × 5 columns</p>\n</div>"
     },
     "execution_count": 4,
     "metadata": {},
     "output_type": "execute_result"
    }
   ],
   "source": [
    "df1"
   ],
   "metadata": {
    "collapsed": false,
    "pycharm": {
     "name": "#%%\n"
    }
   }
  },
  {
   "cell_type": "code",
   "execution_count": 5,
   "outputs": [
    {
     "data": {
      "text/plain": "      Period     Location  FactValueNumericLow  FactValueNumeric  \\\n2331    2000  Afghanistan                210.0             965.0   \n2226    2001  Afghanistan                210.0             965.0   \n2047    2002  Afghanistan                230.0            1133.0   \n2003    2003  Afghanistan                210.0             798.0   \n1875    2004  Afghanistan                120.0             350.0   \n...      ...          ...                  ...               ...   \n568     2016     Zimbabwe                 55.0            1933.0   \n486     2017     Zimbabwe                 96.0            3410.0   \n355     2018     Zimbabwe                 45.0            1624.0   \n259     2019     Zimbabwe                 54.0            2003.0   \n48      2020     Zimbabwe                 79.0            2951.0   \n\n      FactValueNumericHigh  \n2331                2030.0  \n2226                2020.0  \n2047                2210.0  \n2003                1540.0  \n1875                 670.0  \n...                    ...  \n568                 3910.0  \n486                 7100.0  \n355                 3350.0  \n259                 4230.0  \n48                  6220.0  \n\n[2334 rows x 5 columns]",
      "text/html": "<div>\n<style scoped>\n    .dataframe tbody tr th:only-of-type {\n        vertical-align: middle;\n    }\n\n    .dataframe tbody tr th {\n        vertical-align: top;\n    }\n\n    .dataframe thead th {\n        text-align: right;\n    }\n</style>\n<table border=\"1\" class=\"dataframe\">\n  <thead>\n    <tr style=\"text-align: right;\">\n      <th></th>\n      <th>Period</th>\n      <th>Location</th>\n      <th>FactValueNumericLow</th>\n      <th>FactValueNumeric</th>\n      <th>FactValueNumericHigh</th>\n    </tr>\n  </thead>\n  <tbody>\n    <tr>\n      <th>2331</th>\n      <td>2000</td>\n      <td>Afghanistan</td>\n      <td>210.0</td>\n      <td>965.0</td>\n      <td>2030.0</td>\n    </tr>\n    <tr>\n      <th>2226</th>\n      <td>2001</td>\n      <td>Afghanistan</td>\n      <td>210.0</td>\n      <td>965.0</td>\n      <td>2020.0</td>\n    </tr>\n    <tr>\n      <th>2047</th>\n      <td>2002</td>\n      <td>Afghanistan</td>\n      <td>230.0</td>\n      <td>1133.0</td>\n      <td>2210.0</td>\n    </tr>\n    <tr>\n      <th>2003</th>\n      <td>2003</td>\n      <td>Afghanistan</td>\n      <td>210.0</td>\n      <td>798.0</td>\n      <td>1540.0</td>\n    </tr>\n    <tr>\n      <th>1875</th>\n      <td>2004</td>\n      <td>Afghanistan</td>\n      <td>120.0</td>\n      <td>350.0</td>\n      <td>670.0</td>\n    </tr>\n    <tr>\n      <th>...</th>\n      <td>...</td>\n      <td>...</td>\n      <td>...</td>\n      <td>...</td>\n      <td>...</td>\n    </tr>\n    <tr>\n      <th>568</th>\n      <td>2016</td>\n      <td>Zimbabwe</td>\n      <td>55.0</td>\n      <td>1933.0</td>\n      <td>3910.0</td>\n    </tr>\n    <tr>\n      <th>486</th>\n      <td>2017</td>\n      <td>Zimbabwe</td>\n      <td>96.0</td>\n      <td>3410.0</td>\n      <td>7100.0</td>\n    </tr>\n    <tr>\n      <th>355</th>\n      <td>2018</td>\n      <td>Zimbabwe</td>\n      <td>45.0</td>\n      <td>1624.0</td>\n      <td>3350.0</td>\n    </tr>\n    <tr>\n      <th>259</th>\n      <td>2019</td>\n      <td>Zimbabwe</td>\n      <td>54.0</td>\n      <td>2003.0</td>\n      <td>4230.0</td>\n    </tr>\n    <tr>\n      <th>48</th>\n      <td>2020</td>\n      <td>Zimbabwe</td>\n      <td>79.0</td>\n      <td>2951.0</td>\n      <td>6220.0</td>\n    </tr>\n  </tbody>\n</table>\n<p>2334 rows × 5 columns</p>\n</div>"
     },
     "execution_count": 5,
     "metadata": {},
     "output_type": "execute_result"
    }
   ],
   "source": [
    "df2"
   ],
   "metadata": {
    "collapsed": false,
    "pycharm": {
     "name": "#%%\n"
    }
   }
  },
  {
   "cell_type": "code",
   "execution_count": 6,
   "outputs": [],
   "source": [
    "df3 = pd.DataFrame(\n",
    "    np.array([\n",
    "        df1.Period,\n",
    "        df1.Location,\n",
    "        df1.FactValueNumericLow,\n",
    "        df1.FactValueNumeric,\n",
    "        df1.FactValueNumericHigh,\n",
    "        df2.FactValueNumericLow,\n",
    "        df2.FactValueNumeric,\n",
    "        df2.FactValueNumericHigh,\n",
    "    ]).transpose(),\n",
    "    columns=[\n",
    "        'Year',\n",
    "        'Country',\n",
    "        'Cases(low)',\n",
    "        'Cases',\n",
    "        'Cases(high)',\n",
    "        'Death(low)',\n",
    "        'Death',\n",
    "        'Death(high)',\n",
    "    ]\n",
    ")"
   ],
   "metadata": {
    "collapsed": false,
    "pycharm": {
     "name": "#%%\n"
    }
   }
  },
  {
   "cell_type": "code",
   "execution_count": 7,
   "outputs": [],
   "source": [
    "df3 = df3.fillna(0)"
   ],
   "metadata": {
    "collapsed": false,
    "pycharm": {
     "name": "#%%\n"
    }
   }
  },
  {
   "cell_type": "code",
   "execution_count": 8,
   "outputs": [
    {
     "data": {
      "text/plain": "     Year     Country  Cases(low)   Cases  Cases(high)  Death(low)  Death  \\\n110  2000  Azerbaijan         0.0  1526.0          0.0         0.0    0.0   \n111  2001  Azerbaijan         0.0  1054.0          0.0         0.0    0.0   \n112  2002  Azerbaijan         0.0   505.0          0.0         0.0    0.0   \n113  2003  Azerbaijan         0.0   480.0          0.0         0.0    0.0   \n114  2004  Azerbaijan         0.0   386.0          0.0         0.0    0.0   \n115  2005  Azerbaijan         0.0   242.0          0.0         0.0    0.0   \n116  2006  Azerbaijan         0.0   141.0          0.0         0.0    0.0   \n117  2007  Azerbaijan         0.0   108.0          0.0         0.0    0.0   \n118  2008  Azerbaijan         0.0    72.0          0.0         0.0    0.0   \n119  2009  Azerbaijan         0.0    78.0          0.0         0.0    0.0   \n120  2010  Azerbaijan         0.0    50.0          0.0         0.0    0.0   \n121  2011  Azerbaijan         0.0     4.0          0.0         0.0    0.0   \n122  2012  Azerbaijan         0.0     3.0          0.0         0.0    0.0   \n123  2013  Azerbaijan         0.0     0.0          0.0         0.0    0.0   \n124  2014  Azerbaijan         0.0     0.0          0.0         0.0    0.0   \n125  2015  Azerbaijan         0.0     0.0          0.0         0.0    0.0   \n126  2016  Azerbaijan         0.0     0.0          0.0         0.0    0.0   \n127  2017  Azerbaijan         0.0     0.0          0.0         0.0    0.0   \n128  2018  Azerbaijan         0.0     0.0          0.0         0.0    0.0   \n129  2019  Azerbaijan         0.0     0.0          0.0         0.0    0.0   \n130  2020  Azerbaijan         0.0     0.0          0.0         0.0    0.0   \n\n     Death(high)  \n110          0.0  \n111          0.0  \n112          0.0  \n113          0.0  \n114          0.0  \n115          0.0  \n116          0.0  \n117          0.0  \n118          0.0  \n119          0.0  \n120          0.0  \n121          0.0  \n122          0.0  \n123          0.0  \n124          0.0  \n125          0.0  \n126          0.0  \n127          0.0  \n128          0.0  \n129          0.0  \n130          0.0  ",
      "text/html": "<div>\n<style scoped>\n    .dataframe tbody tr th:only-of-type {\n        vertical-align: middle;\n    }\n\n    .dataframe tbody tr th {\n        vertical-align: top;\n    }\n\n    .dataframe thead th {\n        text-align: right;\n    }\n</style>\n<table border=\"1\" class=\"dataframe\">\n  <thead>\n    <tr style=\"text-align: right;\">\n      <th></th>\n      <th>Year</th>\n      <th>Country</th>\n      <th>Cases(low)</th>\n      <th>Cases</th>\n      <th>Cases(high)</th>\n      <th>Death(low)</th>\n      <th>Death</th>\n      <th>Death(high)</th>\n    </tr>\n  </thead>\n  <tbody>\n    <tr>\n      <th>110</th>\n      <td>2000</td>\n      <td>Azerbaijan</td>\n      <td>0.0</td>\n      <td>1526.0</td>\n      <td>0.0</td>\n      <td>0.0</td>\n      <td>0.0</td>\n      <td>0.0</td>\n    </tr>\n    <tr>\n      <th>111</th>\n      <td>2001</td>\n      <td>Azerbaijan</td>\n      <td>0.0</td>\n      <td>1054.0</td>\n      <td>0.0</td>\n      <td>0.0</td>\n      <td>0.0</td>\n      <td>0.0</td>\n    </tr>\n    <tr>\n      <th>112</th>\n      <td>2002</td>\n      <td>Azerbaijan</td>\n      <td>0.0</td>\n      <td>505.0</td>\n      <td>0.0</td>\n      <td>0.0</td>\n      <td>0.0</td>\n      <td>0.0</td>\n    </tr>\n    <tr>\n      <th>113</th>\n      <td>2003</td>\n      <td>Azerbaijan</td>\n      <td>0.0</td>\n      <td>480.0</td>\n      <td>0.0</td>\n      <td>0.0</td>\n      <td>0.0</td>\n      <td>0.0</td>\n    </tr>\n    <tr>\n      <th>114</th>\n      <td>2004</td>\n      <td>Azerbaijan</td>\n      <td>0.0</td>\n      <td>386.0</td>\n      <td>0.0</td>\n      <td>0.0</td>\n      <td>0.0</td>\n      <td>0.0</td>\n    </tr>\n    <tr>\n      <th>115</th>\n      <td>2005</td>\n      <td>Azerbaijan</td>\n      <td>0.0</td>\n      <td>242.0</td>\n      <td>0.0</td>\n      <td>0.0</td>\n      <td>0.0</td>\n      <td>0.0</td>\n    </tr>\n    <tr>\n      <th>116</th>\n      <td>2006</td>\n      <td>Azerbaijan</td>\n      <td>0.0</td>\n      <td>141.0</td>\n      <td>0.0</td>\n      <td>0.0</td>\n      <td>0.0</td>\n      <td>0.0</td>\n    </tr>\n    <tr>\n      <th>117</th>\n      <td>2007</td>\n      <td>Azerbaijan</td>\n      <td>0.0</td>\n      <td>108.0</td>\n      <td>0.0</td>\n      <td>0.0</td>\n      <td>0.0</td>\n      <td>0.0</td>\n    </tr>\n    <tr>\n      <th>118</th>\n      <td>2008</td>\n      <td>Azerbaijan</td>\n      <td>0.0</td>\n      <td>72.0</td>\n      <td>0.0</td>\n      <td>0.0</td>\n      <td>0.0</td>\n      <td>0.0</td>\n    </tr>\n    <tr>\n      <th>119</th>\n      <td>2009</td>\n      <td>Azerbaijan</td>\n      <td>0.0</td>\n      <td>78.0</td>\n      <td>0.0</td>\n      <td>0.0</td>\n      <td>0.0</td>\n      <td>0.0</td>\n    </tr>\n    <tr>\n      <th>120</th>\n      <td>2010</td>\n      <td>Azerbaijan</td>\n      <td>0.0</td>\n      <td>50.0</td>\n      <td>0.0</td>\n      <td>0.0</td>\n      <td>0.0</td>\n      <td>0.0</td>\n    </tr>\n    <tr>\n      <th>121</th>\n      <td>2011</td>\n      <td>Azerbaijan</td>\n      <td>0.0</td>\n      <td>4.0</td>\n      <td>0.0</td>\n      <td>0.0</td>\n      <td>0.0</td>\n      <td>0.0</td>\n    </tr>\n    <tr>\n      <th>122</th>\n      <td>2012</td>\n      <td>Azerbaijan</td>\n      <td>0.0</td>\n      <td>3.0</td>\n      <td>0.0</td>\n      <td>0.0</td>\n      <td>0.0</td>\n      <td>0.0</td>\n    </tr>\n    <tr>\n      <th>123</th>\n      <td>2013</td>\n      <td>Azerbaijan</td>\n      <td>0.0</td>\n      <td>0.0</td>\n      <td>0.0</td>\n      <td>0.0</td>\n      <td>0.0</td>\n      <td>0.0</td>\n    </tr>\n    <tr>\n      <th>124</th>\n      <td>2014</td>\n      <td>Azerbaijan</td>\n      <td>0.0</td>\n      <td>0.0</td>\n      <td>0.0</td>\n      <td>0.0</td>\n      <td>0.0</td>\n      <td>0.0</td>\n    </tr>\n    <tr>\n      <th>125</th>\n      <td>2015</td>\n      <td>Azerbaijan</td>\n      <td>0.0</td>\n      <td>0.0</td>\n      <td>0.0</td>\n      <td>0.0</td>\n      <td>0.0</td>\n      <td>0.0</td>\n    </tr>\n    <tr>\n      <th>126</th>\n      <td>2016</td>\n      <td>Azerbaijan</td>\n      <td>0.0</td>\n      <td>0.0</td>\n      <td>0.0</td>\n      <td>0.0</td>\n      <td>0.0</td>\n      <td>0.0</td>\n    </tr>\n    <tr>\n      <th>127</th>\n      <td>2017</td>\n      <td>Azerbaijan</td>\n      <td>0.0</td>\n      <td>0.0</td>\n      <td>0.0</td>\n      <td>0.0</td>\n      <td>0.0</td>\n      <td>0.0</td>\n    </tr>\n    <tr>\n      <th>128</th>\n      <td>2018</td>\n      <td>Azerbaijan</td>\n      <td>0.0</td>\n      <td>0.0</td>\n      <td>0.0</td>\n      <td>0.0</td>\n      <td>0.0</td>\n      <td>0.0</td>\n    </tr>\n    <tr>\n      <th>129</th>\n      <td>2019</td>\n      <td>Azerbaijan</td>\n      <td>0.0</td>\n      <td>0.0</td>\n      <td>0.0</td>\n      <td>0.0</td>\n      <td>0.0</td>\n      <td>0.0</td>\n    </tr>\n    <tr>\n      <th>130</th>\n      <td>2020</td>\n      <td>Azerbaijan</td>\n      <td>0.0</td>\n      <td>0.0</td>\n      <td>0.0</td>\n      <td>0.0</td>\n      <td>0.0</td>\n      <td>0.0</td>\n    </tr>\n  </tbody>\n</table>\n</div>"
     },
     "execution_count": 8,
     "metadata": {},
     "output_type": "execute_result"
    }
   ],
   "source": [
    "df3[df3.Country == 'Azerbaijan']"
   ],
   "metadata": {
    "collapsed": false,
    "pycharm": {
     "name": "#%%\n"
    }
   }
  },
  {
   "cell_type": "code",
   "execution_count": 9,
   "outputs": [
    {
     "data": {
      "text/plain": "      Year      Country  Cases(low)      Cases  Cases(high)  Death(low)  \\\n0     2000  Afghanistan    843000.0  1312939.0    2022000.0       210.0   \n1     2001  Afghanistan    849000.0  1312939.0    2007000.0       210.0   \n2     2002  Afghanistan    916000.0  1382972.0    2106000.0       230.0   \n3     2003  Afghanistan    810000.0  1242906.0    1916000.0       210.0   \n4     2004  Afghanistan    480000.0   716954.0    1072000.0       120.0   \n...    ...          ...         ...        ...          ...         ...   \n2329  2016     Zimbabwe    498000.0   755407.0    1046000.0        55.0   \n2330  2017     Zimbabwe    830000.0  1332055.0    1909000.0        96.0   \n2331  2018     Zimbabwe    392000.0   634718.0     899000.0        45.0   \n2332  2019     Zimbabwe    470000.0   782740.0    1125000.0        54.0   \n2333  2020     Zimbabwe    692000.0  1152901.0    1649000.0        79.0   \n\n       Death  Death(high)  \n0      965.0       2030.0  \n1      965.0       2020.0  \n2     1133.0       2210.0  \n3      798.0       1540.0  \n4      350.0        670.0  \n...      ...          ...  \n2329  1933.0       3910.0  \n2330  3410.0       7100.0  \n2331  1624.0       3350.0  \n2332  2003.0       4230.0  \n2333  2951.0       6220.0  \n\n[2334 rows x 8 columns]",
      "text/html": "<div>\n<style scoped>\n    .dataframe tbody tr th:only-of-type {\n        vertical-align: middle;\n    }\n\n    .dataframe tbody tr th {\n        vertical-align: top;\n    }\n\n    .dataframe thead th {\n        text-align: right;\n    }\n</style>\n<table border=\"1\" class=\"dataframe\">\n  <thead>\n    <tr style=\"text-align: right;\">\n      <th></th>\n      <th>Year</th>\n      <th>Country</th>\n      <th>Cases(low)</th>\n      <th>Cases</th>\n      <th>Cases(high)</th>\n      <th>Death(low)</th>\n      <th>Death</th>\n      <th>Death(high)</th>\n    </tr>\n  </thead>\n  <tbody>\n    <tr>\n      <th>0</th>\n      <td>2000</td>\n      <td>Afghanistan</td>\n      <td>843000.0</td>\n      <td>1312939.0</td>\n      <td>2022000.0</td>\n      <td>210.0</td>\n      <td>965.0</td>\n      <td>2030.0</td>\n    </tr>\n    <tr>\n      <th>1</th>\n      <td>2001</td>\n      <td>Afghanistan</td>\n      <td>849000.0</td>\n      <td>1312939.0</td>\n      <td>2007000.0</td>\n      <td>210.0</td>\n      <td>965.0</td>\n      <td>2020.0</td>\n    </tr>\n    <tr>\n      <th>2</th>\n      <td>2002</td>\n      <td>Afghanistan</td>\n      <td>916000.0</td>\n      <td>1382972.0</td>\n      <td>2106000.0</td>\n      <td>230.0</td>\n      <td>1133.0</td>\n      <td>2210.0</td>\n    </tr>\n    <tr>\n      <th>3</th>\n      <td>2003</td>\n      <td>Afghanistan</td>\n      <td>810000.0</td>\n      <td>1242906.0</td>\n      <td>1916000.0</td>\n      <td>210.0</td>\n      <td>798.0</td>\n      <td>1540.0</td>\n    </tr>\n    <tr>\n      <th>4</th>\n      <td>2004</td>\n      <td>Afghanistan</td>\n      <td>480000.0</td>\n      <td>716954.0</td>\n      <td>1072000.0</td>\n      <td>120.0</td>\n      <td>350.0</td>\n      <td>670.0</td>\n    </tr>\n    <tr>\n      <th>...</th>\n      <td>...</td>\n      <td>...</td>\n      <td>...</td>\n      <td>...</td>\n      <td>...</td>\n      <td>...</td>\n      <td>...</td>\n      <td>...</td>\n    </tr>\n    <tr>\n      <th>2329</th>\n      <td>2016</td>\n      <td>Zimbabwe</td>\n      <td>498000.0</td>\n      <td>755407.0</td>\n      <td>1046000.0</td>\n      <td>55.0</td>\n      <td>1933.0</td>\n      <td>3910.0</td>\n    </tr>\n    <tr>\n      <th>2330</th>\n      <td>2017</td>\n      <td>Zimbabwe</td>\n      <td>830000.0</td>\n      <td>1332055.0</td>\n      <td>1909000.0</td>\n      <td>96.0</td>\n      <td>3410.0</td>\n      <td>7100.0</td>\n    </tr>\n    <tr>\n      <th>2331</th>\n      <td>2018</td>\n      <td>Zimbabwe</td>\n      <td>392000.0</td>\n      <td>634718.0</td>\n      <td>899000.0</td>\n      <td>45.0</td>\n      <td>1624.0</td>\n      <td>3350.0</td>\n    </tr>\n    <tr>\n      <th>2332</th>\n      <td>2019</td>\n      <td>Zimbabwe</td>\n      <td>470000.0</td>\n      <td>782740.0</td>\n      <td>1125000.0</td>\n      <td>54.0</td>\n      <td>2003.0</td>\n      <td>4230.0</td>\n    </tr>\n    <tr>\n      <th>2333</th>\n      <td>2020</td>\n      <td>Zimbabwe</td>\n      <td>692000.0</td>\n      <td>1152901.0</td>\n      <td>1649000.0</td>\n      <td>79.0</td>\n      <td>2951.0</td>\n      <td>6220.0</td>\n    </tr>\n  </tbody>\n</table>\n<p>2334 rows × 8 columns</p>\n</div>"
     },
     "execution_count": 9,
     "metadata": {},
     "output_type": "execute_result"
    }
   ],
   "source": [
    "df3"
   ],
   "metadata": {
    "collapsed": false,
    "pycharm": {
     "name": "#%%\n"
    }
   }
  },
  {
   "cell_type": "code",
   "execution_count": 11,
   "outputs": [
    {
     "data": {
      "text/plain": "     Year     Country  Cases(low)   Cases  Cases(high)  Death(low)  Death  \\\n110  2000  Azerbaijan         0.0  1526.0          0.0         0.0    0.0   \n111  2001  Azerbaijan         0.0  1054.0          0.0         0.0    0.0   \n112  2002  Azerbaijan         0.0   505.0          0.0         0.0    0.0   \n113  2003  Azerbaijan         0.0   480.0          0.0         0.0    0.0   \n114  2004  Azerbaijan         0.0   386.0          0.0         0.0    0.0   \n115  2005  Azerbaijan         0.0   242.0          0.0         0.0    0.0   \n116  2006  Azerbaijan         0.0   141.0          0.0         0.0    0.0   \n117  2007  Azerbaijan         0.0   108.0          0.0         0.0    0.0   \n118  2008  Azerbaijan         0.0    72.0          0.0         0.0    0.0   \n119  2009  Azerbaijan         0.0    78.0          0.0         0.0    0.0   \n120  2010  Azerbaijan         0.0    50.0          0.0         0.0    0.0   \n121  2011  Azerbaijan         0.0     4.0          0.0         0.0    0.0   \n122  2012  Azerbaijan         0.0     3.0          0.0         0.0    0.0   \n123  2013  Azerbaijan         0.0     0.0          0.0         0.0    0.0   \n124  2014  Azerbaijan         0.0     0.0          0.0         0.0    0.0   \n125  2015  Azerbaijan         0.0     0.0          0.0         0.0    0.0   \n126  2016  Azerbaijan         0.0     0.0          0.0         0.0    0.0   \n127  2017  Azerbaijan         0.0     0.0          0.0         0.0    0.0   \n128  2018  Azerbaijan         0.0     0.0          0.0         0.0    0.0   \n129  2019  Azerbaijan         0.0     0.0          0.0         0.0    0.0   \n130  2020  Azerbaijan         0.0     0.0          0.0         0.0    0.0   \n\n     Death(high)  \n110          0.0  \n111          0.0  \n112          0.0  \n113          0.0  \n114          0.0  \n115          0.0  \n116          0.0  \n117          0.0  \n118          0.0  \n119          0.0  \n120          0.0  \n121          0.0  \n122          0.0  \n123          0.0  \n124          0.0  \n125          0.0  \n126          0.0  \n127          0.0  \n128          0.0  \n129          0.0  \n130          0.0  ",
      "text/html": "<div>\n<style scoped>\n    .dataframe tbody tr th:only-of-type {\n        vertical-align: middle;\n    }\n\n    .dataframe tbody tr th {\n        vertical-align: top;\n    }\n\n    .dataframe thead th {\n        text-align: right;\n    }\n</style>\n<table border=\"1\" class=\"dataframe\">\n  <thead>\n    <tr style=\"text-align: right;\">\n      <th></th>\n      <th>Year</th>\n      <th>Country</th>\n      <th>Cases(low)</th>\n      <th>Cases</th>\n      <th>Cases(high)</th>\n      <th>Death(low)</th>\n      <th>Death</th>\n      <th>Death(high)</th>\n    </tr>\n  </thead>\n  <tbody>\n    <tr>\n      <th>110</th>\n      <td>2000</td>\n      <td>Azerbaijan</td>\n      <td>0.0</td>\n      <td>1526.0</td>\n      <td>0.0</td>\n      <td>0.0</td>\n      <td>0.0</td>\n      <td>0.0</td>\n    </tr>\n    <tr>\n      <th>111</th>\n      <td>2001</td>\n      <td>Azerbaijan</td>\n      <td>0.0</td>\n      <td>1054.0</td>\n      <td>0.0</td>\n      <td>0.0</td>\n      <td>0.0</td>\n      <td>0.0</td>\n    </tr>\n    <tr>\n      <th>112</th>\n      <td>2002</td>\n      <td>Azerbaijan</td>\n      <td>0.0</td>\n      <td>505.0</td>\n      <td>0.0</td>\n      <td>0.0</td>\n      <td>0.0</td>\n      <td>0.0</td>\n    </tr>\n    <tr>\n      <th>113</th>\n      <td>2003</td>\n      <td>Azerbaijan</td>\n      <td>0.0</td>\n      <td>480.0</td>\n      <td>0.0</td>\n      <td>0.0</td>\n      <td>0.0</td>\n      <td>0.0</td>\n    </tr>\n    <tr>\n      <th>114</th>\n      <td>2004</td>\n      <td>Azerbaijan</td>\n      <td>0.0</td>\n      <td>386.0</td>\n      <td>0.0</td>\n      <td>0.0</td>\n      <td>0.0</td>\n      <td>0.0</td>\n    </tr>\n    <tr>\n      <th>115</th>\n      <td>2005</td>\n      <td>Azerbaijan</td>\n      <td>0.0</td>\n      <td>242.0</td>\n      <td>0.0</td>\n      <td>0.0</td>\n      <td>0.0</td>\n      <td>0.0</td>\n    </tr>\n    <tr>\n      <th>116</th>\n      <td>2006</td>\n      <td>Azerbaijan</td>\n      <td>0.0</td>\n      <td>141.0</td>\n      <td>0.0</td>\n      <td>0.0</td>\n      <td>0.0</td>\n      <td>0.0</td>\n    </tr>\n    <tr>\n      <th>117</th>\n      <td>2007</td>\n      <td>Azerbaijan</td>\n      <td>0.0</td>\n      <td>108.0</td>\n      <td>0.0</td>\n      <td>0.0</td>\n      <td>0.0</td>\n      <td>0.0</td>\n    </tr>\n    <tr>\n      <th>118</th>\n      <td>2008</td>\n      <td>Azerbaijan</td>\n      <td>0.0</td>\n      <td>72.0</td>\n      <td>0.0</td>\n      <td>0.0</td>\n      <td>0.0</td>\n      <td>0.0</td>\n    </tr>\n    <tr>\n      <th>119</th>\n      <td>2009</td>\n      <td>Azerbaijan</td>\n      <td>0.0</td>\n      <td>78.0</td>\n      <td>0.0</td>\n      <td>0.0</td>\n      <td>0.0</td>\n      <td>0.0</td>\n    </tr>\n    <tr>\n      <th>120</th>\n      <td>2010</td>\n      <td>Azerbaijan</td>\n      <td>0.0</td>\n      <td>50.0</td>\n      <td>0.0</td>\n      <td>0.0</td>\n      <td>0.0</td>\n      <td>0.0</td>\n    </tr>\n    <tr>\n      <th>121</th>\n      <td>2011</td>\n      <td>Azerbaijan</td>\n      <td>0.0</td>\n      <td>4.0</td>\n      <td>0.0</td>\n      <td>0.0</td>\n      <td>0.0</td>\n      <td>0.0</td>\n    </tr>\n    <tr>\n      <th>122</th>\n      <td>2012</td>\n      <td>Azerbaijan</td>\n      <td>0.0</td>\n      <td>3.0</td>\n      <td>0.0</td>\n      <td>0.0</td>\n      <td>0.0</td>\n      <td>0.0</td>\n    </tr>\n    <tr>\n      <th>123</th>\n      <td>2013</td>\n      <td>Azerbaijan</td>\n      <td>0.0</td>\n      <td>0.0</td>\n      <td>0.0</td>\n      <td>0.0</td>\n      <td>0.0</td>\n      <td>0.0</td>\n    </tr>\n    <tr>\n      <th>124</th>\n      <td>2014</td>\n      <td>Azerbaijan</td>\n      <td>0.0</td>\n      <td>0.0</td>\n      <td>0.0</td>\n      <td>0.0</td>\n      <td>0.0</td>\n      <td>0.0</td>\n    </tr>\n    <tr>\n      <th>125</th>\n      <td>2015</td>\n      <td>Azerbaijan</td>\n      <td>0.0</td>\n      <td>0.0</td>\n      <td>0.0</td>\n      <td>0.0</td>\n      <td>0.0</td>\n      <td>0.0</td>\n    </tr>\n    <tr>\n      <th>126</th>\n      <td>2016</td>\n      <td>Azerbaijan</td>\n      <td>0.0</td>\n      <td>0.0</td>\n      <td>0.0</td>\n      <td>0.0</td>\n      <td>0.0</td>\n      <td>0.0</td>\n    </tr>\n    <tr>\n      <th>127</th>\n      <td>2017</td>\n      <td>Azerbaijan</td>\n      <td>0.0</td>\n      <td>0.0</td>\n      <td>0.0</td>\n      <td>0.0</td>\n      <td>0.0</td>\n      <td>0.0</td>\n    </tr>\n    <tr>\n      <th>128</th>\n      <td>2018</td>\n      <td>Azerbaijan</td>\n      <td>0.0</td>\n      <td>0.0</td>\n      <td>0.0</td>\n      <td>0.0</td>\n      <td>0.0</td>\n      <td>0.0</td>\n    </tr>\n    <tr>\n      <th>129</th>\n      <td>2019</td>\n      <td>Azerbaijan</td>\n      <td>0.0</td>\n      <td>0.0</td>\n      <td>0.0</td>\n      <td>0.0</td>\n      <td>0.0</td>\n      <td>0.0</td>\n    </tr>\n    <tr>\n      <th>130</th>\n      <td>2020</td>\n      <td>Azerbaijan</td>\n      <td>0.0</td>\n      <td>0.0</td>\n      <td>0.0</td>\n      <td>0.0</td>\n      <td>0.0</td>\n      <td>0.0</td>\n    </tr>\n  </tbody>\n</table>\n</div>"
     },
     "execution_count": 11,
     "metadata": {},
     "output_type": "execute_result"
    }
   ],
   "source": [
    "df3[df3['Country'] == 'Azerbaijan']"
   ],
   "metadata": {
    "collapsed": false,
    "pycharm": {
     "name": "#%%\n"
    }
   }
  },
  {
   "cell_type": "code",
   "execution_count": 10,
   "outputs": [],
   "source": [],
   "metadata": {
    "collapsed": false,
    "pycharm": {
     "name": "#%%\n"
    }
   }
  }
 ],
 "metadata": {
  "kernelspec": {
   "display_name": "Python 3",
   "language": "python",
   "name": "python3"
  },
  "language_info": {
   "codemirror_mode": {
    "name": "ipython",
    "version": 2
   },
   "file_extension": ".py",
   "mimetype": "text/x-python",
   "name": "python",
   "nbconvert_exporter": "python",
   "pygments_lexer": "ipython2",
   "version": "2.7.6"
  }
 },
 "nbformat": 4,
 "nbformat_minor": 0
}